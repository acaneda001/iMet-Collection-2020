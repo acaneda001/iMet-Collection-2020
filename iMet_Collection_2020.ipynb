{
 "cells": [
  {
   "cell_type": "markdown",
   "metadata": {},
   "source": [
    "# iMet Collection 2020\n",
    "### Kaggle Competition"
   ]
  },
  {
   "cell_type": "markdown",
   "metadata": {},
   "source": [
    "## Import & Clean Data"
   ]
  },
  {
   "cell_type": "code",
   "execution_count": null,
   "metadata": {
    "_cell_guid": "b1076dfc-b9ad-4769-8c92-a6c4dae69d19",
    "_uuid": "8f2839f25d086af736a60e9eeb907d3b93b6e0e5"
   },
   "outputs": [],
   "source": [
    "import pandas as pd\n",
    "import matplotlib.pyplot as plt\n",
    "import matplotlib.image as mpimg"
   ]
  },
  {
   "cell_type": "code",
   "execution_count": null,
   "metadata": {},
   "outputs": [],
   "source": [
    "df_labels = pd.read_csv(\"../input/imet-2020-fgvc7/labels.csv\")\n",
    "df_test = pd.read_csv(\"../input/imet-2020-fgvc7/sample_submission.csv\")\n",
    "df_train = pd.read_csv(\"../input/imet-2020-fgvc7/train.csv\")\n",
    "\n",
    "print(df_labels.head())\n",
    "print(df_train.head())"
   ]
  },
  {
   "cell_type": "code",
   "execution_count": null,
   "metadata": {},
   "outputs": [],
   "source": [
    "df_train[\"attribute_ids\"]=df_train[\"attribute_ids\"].apply(lambda x:x.split(\" \"))\n",
    "df_train[\"id\"]=df_train[\"id\"].apply(lambda x:x + \".png\")\n",
    "print(df_train.head())"
   ]
  },
  {
   "cell_type": "markdown",
   "metadata": {},
   "source": [
    "## Generate Train and Valid Generators"
   ]
  },
  {
   "cell_type": "code",
   "execution_count": null,
   "metadata": {},
   "outputs": [],
   "source": [
    "TRAIN_DIR='../input/imet-2020-fgvc7/train/'\n",
    "image_size = 128\n",
    "num_classes = 3471\n",
    "BATCH_SIZE=512\n",
    "EPOCHS=6"
   ]
  },
  {
   "cell_type": "code",
   "execution_count": null,
   "metadata": {},
   "outputs": [],
   "source": [
    "import numpy as np\n",
    "from tensorflow.keras.applications.resnet50 import preprocess_input\n",
    "from tensorflow.keras.applications import ResNet50\n",
    "from tensorflow.keras.preprocessing.image import load_img, img_to_array, ImageDataGenerator\n",
    "from tensorflow.keras.models import Sequential\n",
    "from tensorflow.keras.layers import Dense, Flatten, GlobalAveragePooling2D\n",
    "\n",
    "\n",
    "labels = df_labels.attribute_id.to_list()\n",
    "\n",
    "data_generator = ImageDataGenerator(preprocess_input, validation_split=0.01)\n",
    "\n",
    "train_generator = data_generator.flow_from_dataframe(\n",
    "                                        dataframe=df_train,\n",
    "                                        directory=TRAIN_DIR,\n",
    "                                        x_col='id',\n",
    "                                        y_col='attribute_ids',\n",
    "                                        seed=1,\n",
    "                                        target_size=(image_size, image_size),\n",
    "                                        batch_size=BATCH_SIZE,\n",
    "                                        class_mode=\"categorical\",                                        \n",
    "                                        subset='training')\n",
    "\n",
    "validation_generator = data_generator.flow_from_dataframe(\n",
    "                                        dataframe=df_train,\n",
    "                                        directory=TRAIN_DIR,\n",
    "                                        x_col='id',\n",
    "                                        y_col='attribute_ids',\n",
    "                                        seed=1,\n",
    "                                        target_size=(image_size, image_size),\n",
    "                                        batch_size=BATCH_SIZE,\n",
    "                                        class_mode=\"categorical\",\n",
    "                                        subset='validation')"
   ]
  },
  {
   "cell_type": "markdown",
   "metadata": {},
   "source": [
    "## Model Generation & Fit"
   ]
  },
  {
   "cell_type": "code",
   "execution_count": null,
   "metadata": {},
   "outputs": [],
   "source": [
    "model = Sequential()\n",
    "model.add(ResNet50(include_top=False, pooling='avg'))\n",
    "model.add(Dense(num_classes, activation='sigmoid'))\n",
    "model.layers[0].trainable = False \n",
    "\n",
    "model.compile(optimizer='adam',loss='binary_crossentropy', metrics=['accuracy'])\n",
    "\n",
    "STEP_SIZE_TRAIN=train_generator.n//train_generator.batch_size\n",
    "STEP_SIZE_VALID=validation_generator.n//validation_generator.batch_size\n",
    "\n",
    "fit_stats = model.fit_generator(generator=train_generator, epochs=EPOCHS,validation_data=validation_generator, \n",
    "                                validation_steps=STEP_SIZE_VALID, steps_per_epoch=STEP_SIZE_TRAIN)"
   ]
  },
  {
   "cell_type": "markdown",
   "metadata": {},
   "source": [
    "## Test Generator"
   ]
  },
  {
   "cell_type": "code",
   "execution_count": null,
   "metadata": {},
   "outputs": [],
   "source": [
    "TEST_DIR='../input/imet-2020-fgvc7/test/'\n",
    "df_test = pd.read_csv(\"../input/imet-2020-fgvc7/sample_submission.csv\")\n",
    "\n",
    "df_test[\"id\"] = df_test[\"id\"].apply(lambda x:x + \".png\")\n",
    "\n",
    "test_datagen = ImageDataGenerator(preprocess_input)\n",
    "\n",
    "test_generator = test_datagen.flow_from_dataframe(\n",
    "                                                dataframe=df_test,\n",
    "                                                directory=TEST_DIR,\n",
    "                                                x_col=\"id\",\n",
    "                                                batch_size=1,\n",
    "                                                seed=1,\n",
    "                                                shuffle=False,\n",
    "                                                class_mode=None,\n",
    "                                                target_size=(image_size, image_size))\n"
   ]
  },
  {
   "cell_type": "code",
   "execution_count": null,
   "metadata": {},
   "outputs": [],
   "source": [
    "STEP_SIZE_TEST=test_generator.n//test_generator.batch_size\n",
    "test_generator.reset()\n",
    "\n",
    "predictions=model.predict_generator(test_generator,steps=STEP_SIZE_TEST, verbose=1)"
   ]
  },
  {
   "cell_type": "markdown",
   "metadata": {},
   "source": [
    "## Test Prediction"
   ]
  },
  {
   "cell_type": "code",
   "execution_count": null,
   "metadata": {},
   "outputs": [],
   "source": [
    "pred_bol = (predictions > 0.1)  # threshold to be changed depending on amount of tags to generate\n",
    "\n",
    "labels = (train_generator.class_indices)\n",
    "labels = dict((v,k) for k,v in labels.items())\n",
    "final_predictions = []\n",
    "\n",
    "for row in pred_bol:\n",
    "    l=[]\n",
    "    \n",
    "    for index,cls in enumerate(row):\n",
    "        if cls:\n",
    "            l.append(labels[index])\n",
    "    \n",
    "    final_predictions.append(\" \".join(l))\n"
   ]
  },
  {
   "cell_type": "markdown",
   "metadata": {},
   "source": [
    "## Submission"
   ]
  },
  {
   "cell_type": "code",
   "execution_count": null,
   "metadata": {},
   "outputs": [],
   "source": [
    "filenames=df_test.id\n",
    "submission = pd.DataFrame(data={'id': filenames, 'attribute_ids': final_predictions})\n",
    "submission[\"id\"] = submission[\"id\"].apply(lambda x: x.replace(\".png\", \"\"))\n",
    "\n",
    "submission.to_csv(\"submission.csv\", index=False)"
   ]
  }
 ],
 "metadata": {
  "kernelspec": {
   "display_name": "Python 3",
   "language": "python",
   "name": "python3"
  },
  "language_info": {
   "codemirror_mode": {
    "name": "ipython",
    "version": 3
   },
   "file_extension": ".py",
   "mimetype": "text/x-python",
   "name": "python",
   "nbconvert_exporter": "python",
   "pygments_lexer": "ipython3",
   "version": "3.7.7"
  }
 },
 "nbformat": 4,
 "nbformat_minor": 1
}
